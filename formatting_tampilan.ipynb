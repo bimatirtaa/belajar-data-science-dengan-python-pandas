{
 "cells": [
  {
   "cell_type": "code",
   "execution_count": 2,
   "metadata": {},
   "outputs": [],
   "source": [
    "import pandas as pd\n",
    "import numpy as np"
   ]
  },
  {
   "cell_type": "code",
   "execution_count": 12,
   "metadata": {},
   "outputs": [
    {
     "data": {
      "text/html": [
       "<div>\n",
       "<style scoped>\n",
       "    .dataframe tbody tr th:only-of-type {\n",
       "        vertical-align: middle;\n",
       "    }\n",
       "\n",
       "    .dataframe tbody tr th {\n",
       "        vertical-align: top;\n",
       "    }\n",
       "\n",
       "    .dataframe thead th {\n",
       "        text-align: right;\n",
       "    }\n",
       "</style>\n",
       "<table border=\"1\" class=\"dataframe\">\n",
       "  <thead>\n",
       "    <tr style=\"text-align: right;\">\n",
       "      <th></th>\n",
       "      <th>omset</th>\n",
       "      <th>operasional</th>\n",
       "    </tr>\n",
       "  </thead>\n",
       "  <tbody>\n",
       "    <tr>\n",
       "      <th>0</th>\n",
       "      <td>16</td>\n",
       "      <td>19</td>\n",
       "    </tr>\n",
       "    <tr>\n",
       "      <th>1</th>\n",
       "      <td>17</td>\n",
       "      <td>2</td>\n",
       "    </tr>\n",
       "    <tr>\n",
       "      <th>2</th>\n",
       "      <td>2</td>\n",
       "      <td>11</td>\n",
       "    </tr>\n",
       "    <tr>\n",
       "      <th>3</th>\n",
       "      <td>18</td>\n",
       "      <td>17</td>\n",
       "    </tr>\n",
       "    <tr>\n",
       "      <th>4</th>\n",
       "      <td>15</td>\n",
       "      <td>17</td>\n",
       "    </tr>\n",
       "  </tbody>\n",
       "</table>\n",
       "</div>"
      ],
      "text/plain": [
       "   omset  operasional\n",
       "0     16           19\n",
       "1     17            2\n",
       "2      2           11\n",
       "3     18           17\n",
       "4     15           17"
      ]
     },
     "execution_count": 12,
     "metadata": {},
     "output_type": "execute_result"
    }
   ],
   "source": [
    "n_rows = 5\n",
    "n_cols = 2\n",
    "cols = ['omset', 'operasional']\n",
    "\n",
    "df = pd.DataFrame(np.random.randint(1, 20, size=(n_rows, n_cols)),\n",
    "                  columns = cols)\n",
    "df"
   ]
  },
  {
   "cell_type": "code",
   "execution_count": 13,
   "metadata": {},
   "outputs": [
    {
     "data": {
      "text/html": [
       "<div>\n",
       "<style scoped>\n",
       "    .dataframe tbody tr th:only-of-type {\n",
       "        vertical-align: middle;\n",
       "    }\n",
       "\n",
       "    .dataframe tbody tr th {\n",
       "        vertical-align: top;\n",
       "    }\n",
       "\n",
       "    .dataframe thead th {\n",
       "        text-align: right;\n",
       "    }\n",
       "</style>\n",
       "<table border=\"1\" class=\"dataframe\">\n",
       "  <thead>\n",
       "    <tr style=\"text-align: right;\">\n",
       "      <th></th>\n",
       "      <th>omset</th>\n",
       "      <th>operasional</th>\n",
       "    </tr>\n",
       "  </thead>\n",
       "  <tbody>\n",
       "    <tr>\n",
       "      <th>0</th>\n",
       "      <td>1600000</td>\n",
       "      <td>190000</td>\n",
       "    </tr>\n",
       "    <tr>\n",
       "      <th>1</th>\n",
       "      <td>1700000</td>\n",
       "      <td>20000</td>\n",
       "    </tr>\n",
       "    <tr>\n",
       "      <th>2</th>\n",
       "      <td>200000</td>\n",
       "      <td>110000</td>\n",
       "    </tr>\n",
       "    <tr>\n",
       "      <th>3</th>\n",
       "      <td>1800000</td>\n",
       "      <td>170000</td>\n",
       "    </tr>\n",
       "    <tr>\n",
       "      <th>4</th>\n",
       "      <td>1500000</td>\n",
       "      <td>170000</td>\n",
       "    </tr>\n",
       "  </tbody>\n",
       "</table>\n",
       "</div>"
      ],
      "text/plain": [
       "     omset  operasional\n",
       "0  1600000       190000\n",
       "1  1700000        20000\n",
       "2   200000       110000\n",
       "3  1800000       170000\n",
       "4  1500000       170000"
      ]
     },
     "execution_count": 13,
     "metadata": {},
     "output_type": "execute_result"
    }
   ],
   "source": [
    "df['omset'] = df['omset']*100_000\n",
    "df['operasional']=df['operasional']*10_000\n",
    "df"
   ]
  },
  {
   "cell_type": "code",
   "execution_count": 14,
   "metadata": {},
   "outputs": [
    {
     "name": "stderr",
     "output_type": "stream",
     "text": [
      "D:\\WPy64-3770\\python-3.7.7.amd64\\lib\\site-packages\\pandas\\util\\__init__.py:12: FutureWarning: pandas.util.testing is deprecated. Use the functions in the public API at pandas.testing instead.\n",
      "  import pandas.util.testing\n"
     ]
    },
    {
     "data": {
      "text/html": [
       "<div>\n",
       "<style scoped>\n",
       "    .dataframe tbody tr th:only-of-type {\n",
       "        vertical-align: middle;\n",
       "    }\n",
       "\n",
       "    .dataframe tbody tr th {\n",
       "        vertical-align: top;\n",
       "    }\n",
       "\n",
       "    .dataframe thead th {\n",
       "        text-align: right;\n",
       "    }\n",
       "</style>\n",
       "<table border=\"1\" class=\"dataframe\">\n",
       "  <thead>\n",
       "    <tr style=\"text-align: right;\">\n",
       "      <th></th>\n",
       "      <th>tanggal</th>\n",
       "      <th>omset</th>\n",
       "      <th>operasional</th>\n",
       "    </tr>\n",
       "  </thead>\n",
       "  <tbody>\n",
       "    <tr>\n",
       "      <th>0</th>\n",
       "      <td>2000-01-01</td>\n",
       "      <td>1600000</td>\n",
       "      <td>190000</td>\n",
       "    </tr>\n",
       "    <tr>\n",
       "      <th>1</th>\n",
       "      <td>2000-01-02</td>\n",
       "      <td>1700000</td>\n",
       "      <td>20000</td>\n",
       "    </tr>\n",
       "    <tr>\n",
       "      <th>2</th>\n",
       "      <td>2000-01-03</td>\n",
       "      <td>200000</td>\n",
       "      <td>110000</td>\n",
       "    </tr>\n",
       "    <tr>\n",
       "      <th>3</th>\n",
       "      <td>2000-01-04</td>\n",
       "      <td>1800000</td>\n",
       "      <td>170000</td>\n",
       "    </tr>\n",
       "    <tr>\n",
       "      <th>4</th>\n",
       "      <td>2000-01-05</td>\n",
       "      <td>1500000</td>\n",
       "      <td>170000</td>\n",
       "    </tr>\n",
       "  </tbody>\n",
       "</table>\n",
       "</div>"
      ],
      "text/plain": [
       "     tanggal    omset  operasional\n",
       "0 2000-01-01  1600000       190000\n",
       "1 2000-01-02  1700000        20000\n",
       "2 2000-01-03   200000       110000\n",
       "3 2000-01-04  1800000       170000\n",
       "4 2000-01-05  1500000       170000"
      ]
     },
     "execution_count": 14,
     "metadata": {},
     "output_type": "execute_result"
    }
   ],
   "source": [
    "df.index = pd.util.testing.makeDateIndex(n_rows, freq='D')\n",
    "df = df.reset_index()\n",
    "df = df.rename(columns={'index':'tanggal'})\n",
    "df"
   ]
  },
  {
   "cell_type": "code",
   "execution_count": 16,
   "metadata": {},
   "outputs": [
    {
     "data": {
      "text/html": [
       "<style  type=\"text/css\" >\n",
       "</style><table id=\"T_665dc25e_2f52_11ed_964d_4ccc6aff80ff\" ><thead>    <tr>        <th class=\"blank level0\" ></th>        <th class=\"col_heading level0 col0\" >tanggal</th>        <th class=\"col_heading level0 col1\" >omset</th>        <th class=\"col_heading level0 col2\" >operasional</th>    </tr></thead><tbody>\n",
       "                <tr>\n",
       "                        <th id=\"T_665dc25e_2f52_11ed_964d_4ccc6aff80fflevel0_row0\" class=\"row_heading level0 row0\" >0</th>\n",
       "                        <td id=\"T_665dc25e_2f52_11ed_964d_4ccc6aff80ffrow0_col0\" class=\"data row0 col0\" >01/01/00</td>\n",
       "                        <td id=\"T_665dc25e_2f52_11ed_964d_4ccc6aff80ffrow0_col1\" class=\"data row0 col1\" >Rp 1600000.00</td>\n",
       "                        <td id=\"T_665dc25e_2f52_11ed_964d_4ccc6aff80ffrow0_col2\" class=\"data row0 col2\" >Rp 190000.00</td>\n",
       "            </tr>\n",
       "            <tr>\n",
       "                        <th id=\"T_665dc25e_2f52_11ed_964d_4ccc6aff80fflevel0_row1\" class=\"row_heading level0 row1\" >1</th>\n",
       "                        <td id=\"T_665dc25e_2f52_11ed_964d_4ccc6aff80ffrow1_col0\" class=\"data row1 col0\" >02/01/00</td>\n",
       "                        <td id=\"T_665dc25e_2f52_11ed_964d_4ccc6aff80ffrow1_col1\" class=\"data row1 col1\" >Rp 1700000.00</td>\n",
       "                        <td id=\"T_665dc25e_2f52_11ed_964d_4ccc6aff80ffrow1_col2\" class=\"data row1 col2\" >Rp 20000.00</td>\n",
       "            </tr>\n",
       "            <tr>\n",
       "                        <th id=\"T_665dc25e_2f52_11ed_964d_4ccc6aff80fflevel0_row2\" class=\"row_heading level0 row2\" >2</th>\n",
       "                        <td id=\"T_665dc25e_2f52_11ed_964d_4ccc6aff80ffrow2_col0\" class=\"data row2 col0\" >03/01/00</td>\n",
       "                        <td id=\"T_665dc25e_2f52_11ed_964d_4ccc6aff80ffrow2_col1\" class=\"data row2 col1\" >Rp 200000.00</td>\n",
       "                        <td id=\"T_665dc25e_2f52_11ed_964d_4ccc6aff80ffrow2_col2\" class=\"data row2 col2\" >Rp 110000.00</td>\n",
       "            </tr>\n",
       "            <tr>\n",
       "                        <th id=\"T_665dc25e_2f52_11ed_964d_4ccc6aff80fflevel0_row3\" class=\"row_heading level0 row3\" >3</th>\n",
       "                        <td id=\"T_665dc25e_2f52_11ed_964d_4ccc6aff80ffrow3_col0\" class=\"data row3 col0\" >04/01/00</td>\n",
       "                        <td id=\"T_665dc25e_2f52_11ed_964d_4ccc6aff80ffrow3_col1\" class=\"data row3 col1\" >Rp 1800000.00</td>\n",
       "                        <td id=\"T_665dc25e_2f52_11ed_964d_4ccc6aff80ffrow3_col2\" class=\"data row3 col2\" >Rp 170000.00</td>\n",
       "            </tr>\n",
       "            <tr>\n",
       "                        <th id=\"T_665dc25e_2f52_11ed_964d_4ccc6aff80fflevel0_row4\" class=\"row_heading level0 row4\" >4</th>\n",
       "                        <td id=\"T_665dc25e_2f52_11ed_964d_4ccc6aff80ffrow4_col0\" class=\"data row4 col0\" >05/01/00</td>\n",
       "                        <td id=\"T_665dc25e_2f52_11ed_964d_4ccc6aff80ffrow4_col1\" class=\"data row4 col1\" >Rp 1500000.00</td>\n",
       "                        <td id=\"T_665dc25e_2f52_11ed_964d_4ccc6aff80ffrow4_col2\" class=\"data row4 col2\" >Rp 170000.00</td>\n",
       "            </tr>\n",
       "    </tbody></table>"
      ],
      "text/plain": [
       "<pandas.io.formats.style.Styler at 0x1e902ec1bc8>"
      ]
     },
     "execution_count": 16,
     "metadata": {},
     "output_type": "execute_result"
    }
   ],
   "source": [
    "formatku = {'tanggal':'{:%d/%m/%y}',\n",
    "            'omset':'Rp {:.2f}',\n",
    "            'operasional':'Rp {:.2f}'}\n",
    "\n",
    "laporan = df.style.format(formatku)\n",
    "laporan"
   ]
  },
  {
   "cell_type": "code",
   "execution_count": 17,
   "metadata": {},
   "outputs": [
    {
     "data": {
      "text/plain": [
       "pandas.io.formats.style.Styler"
      ]
     },
     "execution_count": 17,
     "metadata": {},
     "output_type": "execute_result"
    }
   ],
   "source": [
    "type(laporan)"
   ]
  },
  {
   "cell_type": "code",
   "execution_count": 18,
   "metadata": {},
   "outputs": [
    {
     "data": {
      "text/html": [
       "<style  type=\"text/css\" >\n",
       "</style><table id=\"T_6e68bb58_2f54_11ed_8f90_4ccc6aff80ff\" ><thead>    <tr>        <th class=\"col_heading level0 col0\" >tanggal</th>        <th class=\"col_heading level0 col1\" >omset</th>        <th class=\"col_heading level0 col2\" >operasional</th>    </tr></thead><tbody>\n",
       "                <tr>\n",
       "                                <td id=\"T_6e68bb58_2f54_11ed_8f90_4ccc6aff80ffrow0_col0\" class=\"data row0 col0\" >01/01/00</td>\n",
       "                        <td id=\"T_6e68bb58_2f54_11ed_8f90_4ccc6aff80ffrow0_col1\" class=\"data row0 col1\" >Rp 1600000.00</td>\n",
       "                        <td id=\"T_6e68bb58_2f54_11ed_8f90_4ccc6aff80ffrow0_col2\" class=\"data row0 col2\" >Rp 190000.00</td>\n",
       "            </tr>\n",
       "            <tr>\n",
       "                                <td id=\"T_6e68bb58_2f54_11ed_8f90_4ccc6aff80ffrow1_col0\" class=\"data row1 col0\" >02/01/00</td>\n",
       "                        <td id=\"T_6e68bb58_2f54_11ed_8f90_4ccc6aff80ffrow1_col1\" class=\"data row1 col1\" >Rp 1700000.00</td>\n",
       "                        <td id=\"T_6e68bb58_2f54_11ed_8f90_4ccc6aff80ffrow1_col2\" class=\"data row1 col2\" >Rp 20000.00</td>\n",
       "            </tr>\n",
       "            <tr>\n",
       "                                <td id=\"T_6e68bb58_2f54_11ed_8f90_4ccc6aff80ffrow2_col0\" class=\"data row2 col0\" >03/01/00</td>\n",
       "                        <td id=\"T_6e68bb58_2f54_11ed_8f90_4ccc6aff80ffrow2_col1\" class=\"data row2 col1\" >Rp 200000.00</td>\n",
       "                        <td id=\"T_6e68bb58_2f54_11ed_8f90_4ccc6aff80ffrow2_col2\" class=\"data row2 col2\" >Rp 110000.00</td>\n",
       "            </tr>\n",
       "            <tr>\n",
       "                                <td id=\"T_6e68bb58_2f54_11ed_8f90_4ccc6aff80ffrow3_col0\" class=\"data row3 col0\" >04/01/00</td>\n",
       "                        <td id=\"T_6e68bb58_2f54_11ed_8f90_4ccc6aff80ffrow3_col1\" class=\"data row3 col1\" >Rp 1800000.00</td>\n",
       "                        <td id=\"T_6e68bb58_2f54_11ed_8f90_4ccc6aff80ffrow3_col2\" class=\"data row3 col2\" >Rp 170000.00</td>\n",
       "            </tr>\n",
       "            <tr>\n",
       "                                <td id=\"T_6e68bb58_2f54_11ed_8f90_4ccc6aff80ffrow4_col0\" class=\"data row4 col0\" >05/01/00</td>\n",
       "                        <td id=\"T_6e68bb58_2f54_11ed_8f90_4ccc6aff80ffrow4_col1\" class=\"data row4 col1\" >Rp 1500000.00</td>\n",
       "                        <td id=\"T_6e68bb58_2f54_11ed_8f90_4ccc6aff80ffrow4_col2\" class=\"data row4 col2\" >Rp 170000.00</td>\n",
       "            </tr>\n",
       "    </tbody></table>"
      ],
      "text/plain": [
       "<pandas.io.formats.style.Styler at 0x1e902ec1bc8>"
      ]
     },
     "execution_count": 18,
     "metadata": {},
     "output_type": "execute_result"
    }
   ],
   "source": [
    "laporan.hide_index()"
   ]
  },
  {
   "cell_type": "code",
   "execution_count": 19,
   "metadata": {},
   "outputs": [
    {
     "data": {
      "text/html": [
       "<style  type=\"text/css\" >\n",
       "</style><table id=\"T_80e731cc_2f54_11ed_ae2a_4ccc6aff80ff\" ><caption>Data omset operasional</caption><thead>    <tr>        <th class=\"col_heading level0 col0\" >tanggal</th>        <th class=\"col_heading level0 col1\" >omset</th>        <th class=\"col_heading level0 col2\" >operasional</th>    </tr></thead><tbody>\n",
       "                <tr>\n",
       "                                <td id=\"T_80e731cc_2f54_11ed_ae2a_4ccc6aff80ffrow0_col0\" class=\"data row0 col0\" >01/01/00</td>\n",
       "                        <td id=\"T_80e731cc_2f54_11ed_ae2a_4ccc6aff80ffrow0_col1\" class=\"data row0 col1\" >Rp 1600000.00</td>\n",
       "                        <td id=\"T_80e731cc_2f54_11ed_ae2a_4ccc6aff80ffrow0_col2\" class=\"data row0 col2\" >Rp 190000.00</td>\n",
       "            </tr>\n",
       "            <tr>\n",
       "                                <td id=\"T_80e731cc_2f54_11ed_ae2a_4ccc6aff80ffrow1_col0\" class=\"data row1 col0\" >02/01/00</td>\n",
       "                        <td id=\"T_80e731cc_2f54_11ed_ae2a_4ccc6aff80ffrow1_col1\" class=\"data row1 col1\" >Rp 1700000.00</td>\n",
       "                        <td id=\"T_80e731cc_2f54_11ed_ae2a_4ccc6aff80ffrow1_col2\" class=\"data row1 col2\" >Rp 20000.00</td>\n",
       "            </tr>\n",
       "            <tr>\n",
       "                                <td id=\"T_80e731cc_2f54_11ed_ae2a_4ccc6aff80ffrow2_col0\" class=\"data row2 col0\" >03/01/00</td>\n",
       "                        <td id=\"T_80e731cc_2f54_11ed_ae2a_4ccc6aff80ffrow2_col1\" class=\"data row2 col1\" >Rp 200000.00</td>\n",
       "                        <td id=\"T_80e731cc_2f54_11ed_ae2a_4ccc6aff80ffrow2_col2\" class=\"data row2 col2\" >Rp 110000.00</td>\n",
       "            </tr>\n",
       "            <tr>\n",
       "                                <td id=\"T_80e731cc_2f54_11ed_ae2a_4ccc6aff80ffrow3_col0\" class=\"data row3 col0\" >04/01/00</td>\n",
       "                        <td id=\"T_80e731cc_2f54_11ed_ae2a_4ccc6aff80ffrow3_col1\" class=\"data row3 col1\" >Rp 1800000.00</td>\n",
       "                        <td id=\"T_80e731cc_2f54_11ed_ae2a_4ccc6aff80ffrow3_col2\" class=\"data row3 col2\" >Rp 170000.00</td>\n",
       "            </tr>\n",
       "            <tr>\n",
       "                                <td id=\"T_80e731cc_2f54_11ed_ae2a_4ccc6aff80ffrow4_col0\" class=\"data row4 col0\" >05/01/00</td>\n",
       "                        <td id=\"T_80e731cc_2f54_11ed_ae2a_4ccc6aff80ffrow4_col1\" class=\"data row4 col1\" >Rp 1500000.00</td>\n",
       "                        <td id=\"T_80e731cc_2f54_11ed_ae2a_4ccc6aff80ffrow4_col2\" class=\"data row4 col2\" >Rp 170000.00</td>\n",
       "            </tr>\n",
       "    </tbody></table>"
      ],
      "text/plain": [
       "<pandas.io.formats.style.Styler at 0x1e902ec1bc8>"
      ]
     },
     "execution_count": 19,
     "metadata": {},
     "output_type": "execute_result"
    }
   ],
   "source": [
    "laporan.set_caption('Data omset operasional')"
   ]
  },
  {
   "cell_type": "code",
   "execution_count": 20,
   "metadata": {},
   "outputs": [
    {
     "data": {
      "text/html": [
       "<style  type=\"text/css\" >\n",
       "    #T_39cc9c24_2f55_11ed_8383_4ccc6aff80ffrow0_col2 {\n",
       "            : ;\n",
       "            background-color:  grey;\n",
       "        }    #T_39cc9c24_2f55_11ed_8383_4ccc6aff80ffrow1_col2 {\n",
       "            background-color:  lightblue;\n",
       "            : ;\n",
       "        }    #T_39cc9c24_2f55_11ed_8383_4ccc6aff80ffrow2_col1 {\n",
       "            background-color:  pink;\n",
       "            : ;\n",
       "        }    #T_39cc9c24_2f55_11ed_8383_4ccc6aff80ffrow3_col1 {\n",
       "            : ;\n",
       "            background-color:  lightgreen;\n",
       "        }</style><table id=\"T_39cc9c24_2f55_11ed_8383_4ccc6aff80ff\" ><caption>Data omset operasional</caption><thead>    <tr>        <th class=\"col_heading level0 col0\" >tanggal</th>        <th class=\"col_heading level0 col1\" >omset</th>        <th class=\"col_heading level0 col2\" >operasional</th>    </tr></thead><tbody>\n",
       "                <tr>\n",
       "                                <td id=\"T_39cc9c24_2f55_11ed_8383_4ccc6aff80ffrow0_col0\" class=\"data row0 col0\" >01/01/00</td>\n",
       "                        <td id=\"T_39cc9c24_2f55_11ed_8383_4ccc6aff80ffrow0_col1\" class=\"data row0 col1\" >Rp 1600000.00</td>\n",
       "                        <td id=\"T_39cc9c24_2f55_11ed_8383_4ccc6aff80ffrow0_col2\" class=\"data row0 col2\" >Rp 190000.00</td>\n",
       "            </tr>\n",
       "            <tr>\n",
       "                                <td id=\"T_39cc9c24_2f55_11ed_8383_4ccc6aff80ffrow1_col0\" class=\"data row1 col0\" >02/01/00</td>\n",
       "                        <td id=\"T_39cc9c24_2f55_11ed_8383_4ccc6aff80ffrow1_col1\" class=\"data row1 col1\" >Rp 1700000.00</td>\n",
       "                        <td id=\"T_39cc9c24_2f55_11ed_8383_4ccc6aff80ffrow1_col2\" class=\"data row1 col2\" >Rp 20000.00</td>\n",
       "            </tr>\n",
       "            <tr>\n",
       "                                <td id=\"T_39cc9c24_2f55_11ed_8383_4ccc6aff80ffrow2_col0\" class=\"data row2 col0\" >03/01/00</td>\n",
       "                        <td id=\"T_39cc9c24_2f55_11ed_8383_4ccc6aff80ffrow2_col1\" class=\"data row2 col1\" >Rp 200000.00</td>\n",
       "                        <td id=\"T_39cc9c24_2f55_11ed_8383_4ccc6aff80ffrow2_col2\" class=\"data row2 col2\" >Rp 110000.00</td>\n",
       "            </tr>\n",
       "            <tr>\n",
       "                                <td id=\"T_39cc9c24_2f55_11ed_8383_4ccc6aff80ffrow3_col0\" class=\"data row3 col0\" >04/01/00</td>\n",
       "                        <td id=\"T_39cc9c24_2f55_11ed_8383_4ccc6aff80ffrow3_col1\" class=\"data row3 col1\" >Rp 1800000.00</td>\n",
       "                        <td id=\"T_39cc9c24_2f55_11ed_8383_4ccc6aff80ffrow3_col2\" class=\"data row3 col2\" >Rp 170000.00</td>\n",
       "            </tr>\n",
       "            <tr>\n",
       "                                <td id=\"T_39cc9c24_2f55_11ed_8383_4ccc6aff80ffrow4_col0\" class=\"data row4 col0\" >05/01/00</td>\n",
       "                        <td id=\"T_39cc9c24_2f55_11ed_8383_4ccc6aff80ffrow4_col1\" class=\"data row4 col1\" >Rp 1500000.00</td>\n",
       "                        <td id=\"T_39cc9c24_2f55_11ed_8383_4ccc6aff80ffrow4_col2\" class=\"data row4 col2\" >Rp 170000.00</td>\n",
       "            </tr>\n",
       "    </tbody></table>"
      ],
      "text/plain": [
       "<pandas.io.formats.style.Styler at 0x1e902ec1bc8>"
      ]
     },
     "execution_count": 20,
     "metadata": {},
     "output_type": "execute_result"
    }
   ],
   "source": [
    "laporan.highlight_min('omset', color='pink')\n",
    "laporan.highlight_max('omset', color='lightgreen')\n",
    "\n",
    "laporan.highlight_min('operasional', color='lightblue')\n",
    "laporan.highlight_max('operasional', color='grey')"
   ]
  },
  {
   "cell_type": "code",
   "execution_count": null,
   "metadata": {},
   "outputs": [],
   "source": []
  }
 ],
 "metadata": {
  "kernelspec": {
   "display_name": "Python 3",
   "language": "python",
   "name": "python3"
  },
  "language_info": {
   "codemirror_mode": {
    "name": "ipython",
    "version": 3
   },
   "file_extension": ".py",
   "mimetype": "text/x-python",
   "name": "python",
   "nbconvert_exporter": "python",
   "pygments_lexer": "ipython3",
   "version": "3.7.7"
  }
 },
 "nbformat": 4,
 "nbformat_minor": 4
}
