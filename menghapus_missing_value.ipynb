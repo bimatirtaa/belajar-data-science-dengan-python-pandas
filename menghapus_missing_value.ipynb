{
 "cells": [
  {
   "cell_type": "code",
   "execution_count": 1,
   "metadata": {},
   "outputs": [],
   "source": [
    "import pandas as pd"
   ]
  },
  {
   "cell_type": "code",
   "execution_count": 15,
   "metadata": {},
   "outputs": [
    {
     "data": {
      "text/html": [
       "<div>\n",
       "<style scoped>\n",
       "    .dataframe tbody tr th:only-of-type {\n",
       "        vertical-align: middle;\n",
       "    }\n",
       "\n",
       "    .dataframe tbody tr th {\n",
       "        vertical-align: top;\n",
       "    }\n",
       "\n",
       "    .dataframe thead th {\n",
       "        text-align: right;\n",
       "    }\n",
       "</style>\n",
       "<table border=\"1\" class=\"dataframe\">\n",
       "  <thead>\n",
       "    <tr style=\"text-align: right;\">\n",
       "      <th></th>\n",
       "      <th>index</th>\n",
       "      <th>A</th>\n",
       "      <th>B</th>\n",
       "      <th>C</th>\n",
       "      <th>D</th>\n",
       "    </tr>\n",
       "  </thead>\n",
       "  <tbody>\n",
       "    <tr>\n",
       "      <th>0</th>\n",
       "      <td>7PCnTsyVEN</td>\n",
       "      <td>0.682958</td>\n",
       "      <td>1.202915</td>\n",
       "      <td>-0.408545</td>\n",
       "      <td>1.098642</td>\n",
       "    </tr>\n",
       "    <tr>\n",
       "      <th>1</th>\n",
       "      <td>k6qK6E4rok</td>\n",
       "      <td>-0.369934</td>\n",
       "      <td>-0.740728</td>\n",
       "      <td>0.044238</td>\n",
       "      <td>0.199108</td>\n",
       "    </tr>\n",
       "    <tr>\n",
       "      <th>2</th>\n",
       "      <td>7Exd1HnXhl</td>\n",
       "      <td>NaN</td>\n",
       "      <td>-0.271847</td>\n",
       "      <td>0.697577</td>\n",
       "      <td>1.255761</td>\n",
       "    </tr>\n",
       "    <tr>\n",
       "      <th>3</th>\n",
       "      <td>yVe7k8YC2G</td>\n",
       "      <td>1.703585</td>\n",
       "      <td>-0.773951</td>\n",
       "      <td>NaN</td>\n",
       "      <td>NaN</td>\n",
       "    </tr>\n",
       "    <tr>\n",
       "      <th>4</th>\n",
       "      <td>0hCJypf27H</td>\n",
       "      <td>-0.823685</td>\n",
       "      <td>0.158241</td>\n",
       "      <td>1.228627</td>\n",
       "      <td>-0.342946</td>\n",
       "    </tr>\n",
       "  </tbody>\n",
       "</table>\n",
       "</div>"
      ],
      "text/plain": [
       "        index         A         B         C         D\n",
       "0  7PCnTsyVEN  0.682958  1.202915 -0.408545  1.098642\n",
       "1  k6qK6E4rok -0.369934 -0.740728  0.044238  0.199108\n",
       "2  7Exd1HnXhl       NaN -0.271847  0.697577  1.255761\n",
       "3  yVe7k8YC2G  1.703585 -0.773951       NaN       NaN\n",
       "4  0hCJypf27H -0.823685  0.158241  1.228627 -0.342946"
      ]
     },
     "execution_count": 15,
     "metadata": {},
     "output_type": "execute_result"
    }
   ],
   "source": [
    "df = pd.util.testing.makeMissingDataframe().reset_index()\n",
    "df.head()"
   ]
  },
  {
   "cell_type": "code",
   "execution_count": 16,
   "metadata": {},
   "outputs": [
    {
     "data": {
      "text/html": [
       "<div>\n",
       "<style scoped>\n",
       "    .dataframe tbody tr th:only-of-type {\n",
       "        vertical-align: middle;\n",
       "    }\n",
       "\n",
       "    .dataframe tbody tr th {\n",
       "        vertical-align: top;\n",
       "    }\n",
       "\n",
       "    .dataframe thead th {\n",
       "        text-align: right;\n",
       "    }\n",
       "</style>\n",
       "<table border=\"1\" class=\"dataframe\">\n",
       "  <thead>\n",
       "    <tr style=\"text-align: right;\">\n",
       "      <th></th>\n",
       "      <th>Z</th>\n",
       "      <th>A</th>\n",
       "      <th>B</th>\n",
       "      <th>C</th>\n",
       "      <th>D</th>\n",
       "    </tr>\n",
       "  </thead>\n",
       "  <tbody>\n",
       "    <tr>\n",
       "      <th>0</th>\n",
       "      <td>7PCnTsyVEN</td>\n",
       "      <td>0.682958</td>\n",
       "      <td>1.202915</td>\n",
       "      <td>-0.408545</td>\n",
       "      <td>1.098642</td>\n",
       "    </tr>\n",
       "    <tr>\n",
       "      <th>1</th>\n",
       "      <td>k6qK6E4rok</td>\n",
       "      <td>-0.369934</td>\n",
       "      <td>-0.740728</td>\n",
       "      <td>0.044238</td>\n",
       "      <td>0.199108</td>\n",
       "    </tr>\n",
       "    <tr>\n",
       "      <th>2</th>\n",
       "      <td>7Exd1HnXhl</td>\n",
       "      <td>NaN</td>\n",
       "      <td>-0.271847</td>\n",
       "      <td>0.697577</td>\n",
       "      <td>1.255761</td>\n",
       "    </tr>\n",
       "    <tr>\n",
       "      <th>3</th>\n",
       "      <td>yVe7k8YC2G</td>\n",
       "      <td>1.703585</td>\n",
       "      <td>-0.773951</td>\n",
       "      <td>NaN</td>\n",
       "      <td>NaN</td>\n",
       "    </tr>\n",
       "    <tr>\n",
       "      <th>4</th>\n",
       "      <td>0hCJypf27H</td>\n",
       "      <td>-0.823685</td>\n",
       "      <td>0.158241</td>\n",
       "      <td>1.228627</td>\n",
       "      <td>-0.342946</td>\n",
       "    </tr>\n",
       "  </tbody>\n",
       "</table>\n",
       "</div>"
      ],
      "text/plain": [
       "            Z         A         B         C         D\n",
       "0  7PCnTsyVEN  0.682958  1.202915 -0.408545  1.098642\n",
       "1  k6qK6E4rok -0.369934 -0.740728  0.044238  0.199108\n",
       "2  7Exd1HnXhl       NaN -0.271847  0.697577  1.255761\n",
       "3  yVe7k8YC2G  1.703585 -0.773951       NaN       NaN\n",
       "4  0hCJypf27H -0.823685  0.158241  1.228627 -0.342946"
      ]
     },
     "execution_count": 16,
     "metadata": {},
     "output_type": "execute_result"
    }
   ],
   "source": [
    "df = df.rename(columns={'index':'Z'})\n",
    "df.head()"
   ]
  },
  {
   "cell_type": "code",
   "execution_count": 18,
   "metadata": {},
   "outputs": [],
   "source": [
    "df_backup = df.copy(deep=True)"
   ]
  },
  {
   "cell_type": "code",
   "execution_count": 19,
   "metadata": {},
   "outputs": [
    {
     "data": {
      "text/html": [
       "<div>\n",
       "<style scoped>\n",
       "    .dataframe tbody tr th:only-of-type {\n",
       "        vertical-align: middle;\n",
       "    }\n",
       "\n",
       "    .dataframe tbody tr th {\n",
       "        vertical-align: top;\n",
       "    }\n",
       "\n",
       "    .dataframe thead th {\n",
       "        text-align: right;\n",
       "    }\n",
       "</style>\n",
       "<table border=\"1\" class=\"dataframe\">\n",
       "  <thead>\n",
       "    <tr style=\"text-align: right;\">\n",
       "      <th></th>\n",
       "      <th>Z</th>\n",
       "    </tr>\n",
       "  </thead>\n",
       "  <tbody>\n",
       "    <tr>\n",
       "      <th>0</th>\n",
       "      <td>7PCnTsyVEN</td>\n",
       "    </tr>\n",
       "    <tr>\n",
       "      <th>1</th>\n",
       "      <td>k6qK6E4rok</td>\n",
       "    </tr>\n",
       "    <tr>\n",
       "      <th>2</th>\n",
       "      <td>7Exd1HnXhl</td>\n",
       "    </tr>\n",
       "    <tr>\n",
       "      <th>3</th>\n",
       "      <td>yVe7k8YC2G</td>\n",
       "    </tr>\n",
       "    <tr>\n",
       "      <th>4</th>\n",
       "      <td>0hCJypf27H</td>\n",
       "    </tr>\n",
       "  </tbody>\n",
       "</table>\n",
       "</div>"
      ],
      "text/plain": [
       "            Z\n",
       "0  7PCnTsyVEN\n",
       "1  k6qK6E4rok\n",
       "2  7Exd1HnXhl\n",
       "3  yVe7k8YC2G\n",
       "4  0hCJypf27H"
      ]
     },
     "execution_count": 19,
     "metadata": {},
     "output_type": "execute_result"
    }
   ],
   "source": [
    "df = df.dropna(axis='columns')\n",
    "df.head()"
   ]
  },
  {
   "cell_type": "code",
   "execution_count": 20,
   "metadata": {},
   "outputs": [
    {
     "data": {
      "text/html": [
       "<div>\n",
       "<style scoped>\n",
       "    .dataframe tbody tr th:only-of-type {\n",
       "        vertical-align: middle;\n",
       "    }\n",
       "\n",
       "    .dataframe tbody tr th {\n",
       "        vertical-align: top;\n",
       "    }\n",
       "\n",
       "    .dataframe thead th {\n",
       "        text-align: right;\n",
       "    }\n",
       "</style>\n",
       "<table border=\"1\" class=\"dataframe\">\n",
       "  <thead>\n",
       "    <tr style=\"text-align: right;\">\n",
       "      <th></th>\n",
       "      <th>Z</th>\n",
       "      <th>A</th>\n",
       "      <th>B</th>\n",
       "      <th>C</th>\n",
       "      <th>D</th>\n",
       "    </tr>\n",
       "  </thead>\n",
       "  <tbody>\n",
       "    <tr>\n",
       "      <th>0</th>\n",
       "      <td>7PCnTsyVEN</td>\n",
       "      <td>0.682958</td>\n",
       "      <td>1.202915</td>\n",
       "      <td>-0.408545</td>\n",
       "      <td>1.098642</td>\n",
       "    </tr>\n",
       "    <tr>\n",
       "      <th>1</th>\n",
       "      <td>k6qK6E4rok</td>\n",
       "      <td>-0.369934</td>\n",
       "      <td>-0.740728</td>\n",
       "      <td>0.044238</td>\n",
       "      <td>0.199108</td>\n",
       "    </tr>\n",
       "    <tr>\n",
       "      <th>4</th>\n",
       "      <td>0hCJypf27H</td>\n",
       "      <td>-0.823685</td>\n",
       "      <td>0.158241</td>\n",
       "      <td>1.228627</td>\n",
       "      <td>-0.342946</td>\n",
       "    </tr>\n",
       "    <tr>\n",
       "      <th>7</th>\n",
       "      <td>Pqk7kKkVGD</td>\n",
       "      <td>0.457278</td>\n",
       "      <td>-0.941342</td>\n",
       "      <td>0.188495</td>\n",
       "      <td>-1.041242</td>\n",
       "    </tr>\n",
       "    <tr>\n",
       "      <th>8</th>\n",
       "      <td>7KW3oAEmqz</td>\n",
       "      <td>-0.584569</td>\n",
       "      <td>-0.885675</td>\n",
       "      <td>0.113011</td>\n",
       "      <td>1.239357</td>\n",
       "    </tr>\n",
       "  </tbody>\n",
       "</table>\n",
       "</div>"
      ],
      "text/plain": [
       "            Z         A         B         C         D\n",
       "0  7PCnTsyVEN  0.682958  1.202915 -0.408545  1.098642\n",
       "1  k6qK6E4rok -0.369934 -0.740728  0.044238  0.199108\n",
       "4  0hCJypf27H -0.823685  0.158241  1.228627 -0.342946\n",
       "7  Pqk7kKkVGD  0.457278 -0.941342  0.188495 -1.041242\n",
       "8  7KW3oAEmqz -0.584569 -0.885675  0.113011  1.239357"
      ]
     },
     "execution_count": 20,
     "metadata": {},
     "output_type": "execute_result"
    }
   ],
   "source": [
    "df = df_backup.copy(deep=True)\n",
    "df = df.dropna(axis='rows')\n",
    "df.head()"
   ]
  },
  {
   "cell_type": "code",
   "execution_count": 21,
   "metadata": {},
   "outputs": [
    {
     "data": {
      "text/plain": [
       "Z    0.000000\n",
       "A    0.100000\n",
       "B    0.066667\n",
       "C    0.166667\n",
       "D    0.066667\n",
       "dtype: float64"
      ]
     },
     "execution_count": 21,
     "metadata": {},
     "output_type": "execute_result"
    }
   ],
   "source": [
    "df = df_backup.copy(deep=True)\n",
    "df.isna().mean()"
   ]
  },
  {
   "cell_type": "code",
   "execution_count": null,
   "metadata": {},
   "outputs": [],
   "source": [
    "treshold = len(df)*0.9\n",
    "df = df.dropna()"
   ]
  }
 ],
 "metadata": {
  "kernelspec": {
   "display_name": "Python 3",
   "language": "python",
   "name": "python3"
  },
  "language_info": {
   "codemirror_mode": {
    "name": "ipython",
    "version": 3
   },
   "file_extension": ".py",
   "mimetype": "text/x-python",
   "name": "python",
   "nbconvert_exporter": "python",
   "pygments_lexer": "ipython3",
   "version": "3.7.7"
  }
 },
 "nbformat": 4,
 "nbformat_minor": 4
}
